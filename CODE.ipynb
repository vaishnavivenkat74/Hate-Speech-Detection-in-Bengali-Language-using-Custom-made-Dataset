{
 "cells": [
  {
   "cell_type": "code",
   "execution_count": 1,
   "id": "f7f00ac5",
   "metadata": {
    "collapsed": true
   },
   "outputs": [
    {
     "name": "stdout",
     "output_type": "stream",
     "text": [
      "Collecting timm\n",
      "  Obtaining dependency information for timm from https://files.pythonhosted.org/packages/6c/d0/179abca8b984b3deefd996f362b612c39da73b60f685921e6cd58b6125b4/timm-1.0.15-py3-none-any.whl.metadata\n",
      "  Downloading timm-1.0.15-py3-none-any.whl.metadata (52 kB)\n",
      "     ---------------------------------------- 0.0/52.0 kB ? eta -:--:--\n",
      "     -------------------------------------- 52.0/52.0 kB 889.1 kB/s eta 0:00:00\n",
      "Requirement already satisfied: scikit-learn in c:\\users\\srivi\\anaconda3\\lib\\site-packages (1.2.2)\n",
      "Requirement already satisfied: torch in c:\\users\\srivi\\anaconda3\\lib\\site-packages (from timm) (2.2.2)\n",
      "Requirement already satisfied: torchvision in c:\\users\\srivi\\anaconda3\\lib\\site-packages (from timm) (0.17.2)\n",
      "Requirement already satisfied: pyyaml in c:\\users\\srivi\\anaconda3\\lib\\site-packages (from timm) (6.0)\n",
      "Requirement already satisfied: huggingface_hub in c:\\users\\srivi\\anaconda3\\lib\\site-packages (from timm) (0.15.1)\n",
      "Requirement already satisfied: safetensors in c:\\users\\srivi\\anaconda3\\lib\\site-packages (from timm) (0.3.2)\n",
      "Requirement already satisfied: numpy>=1.17.3 in c:\\users\\srivi\\anaconda3\\lib\\site-packages (from scikit-learn) (1.24.4)\n",
      "Requirement already satisfied: scipy>=1.3.2 in c:\\users\\srivi\\anaconda3\\lib\\site-packages (from scikit-learn) (1.11.1)\n",
      "Requirement already satisfied: joblib>=1.1.1 in c:\\users\\srivi\\anaconda3\\lib\\site-packages (from scikit-learn) (1.2.0)\n",
      "Requirement already satisfied: threadpoolctl>=2.0.0 in c:\\users\\srivi\\anaconda3\\lib\\site-packages (from scikit-learn) (3.5.0)\n",
      "Requirement already satisfied: filelock in c:\\users\\srivi\\anaconda3\\lib\\site-packages (from huggingface_hub->timm) (3.13.1)\n",
      "Requirement already satisfied: fsspec in c:\\users\\srivi\\anaconda3\\lib\\site-packages (from huggingface_hub->timm) (2023.4.0)\n",
      "Requirement already satisfied: requests in c:\\users\\srivi\\anaconda3\\lib\\site-packages (from huggingface_hub->timm) (2.31.0)\n",
      "Requirement already satisfied: tqdm>=4.42.1 in c:\\users\\srivi\\anaconda3\\lib\\site-packages (from huggingface_hub->timm) (4.65.0)\n",
      "Requirement already satisfied: typing-extensions>=3.7.4.3 in c:\\users\\srivi\\anaconda3\\lib\\site-packages (from huggingface_hub->timm) (4.11.0)\n",
      "Requirement already satisfied: packaging>=20.9 in c:\\users\\srivi\\anaconda3\\lib\\site-packages (from huggingface_hub->timm) (23.1)\n",
      "Requirement already satisfied: sympy in c:\\users\\srivi\\anaconda3\\lib\\site-packages (from torch->timm) (1.11.1)\n",
      "Requirement already satisfied: networkx in c:\\users\\srivi\\anaconda3\\lib\\site-packages (from torch->timm) (3.1)\n",
      "Requirement already satisfied: jinja2 in c:\\users\\srivi\\anaconda3\\lib\\site-packages (from torch->timm) (3.1.2)\n",
      "Requirement already satisfied: pillow!=8.3.*,>=5.3.0 in c:\\users\\srivi\\anaconda3\\lib\\site-packages (from torchvision->timm) (10.2.0)\n",
      "Requirement already satisfied: colorama in c:\\users\\srivi\\anaconda3\\lib\\site-packages (from tqdm>=4.42.1->huggingface_hub->timm) (0.4.6)\n",
      "Requirement already satisfied: MarkupSafe>=2.0 in c:\\users\\srivi\\anaconda3\\lib\\site-packages (from jinja2->torch->timm) (2.1.1)\n",
      "Requirement already satisfied: charset-normalizer<4,>=2 in c:\\users\\srivi\\anaconda3\\lib\\site-packages (from requests->huggingface_hub->timm) (2.0.4)\n",
      "Requirement already satisfied: idna<4,>=2.5 in c:\\users\\srivi\\anaconda3\\lib\\site-packages (from requests->huggingface_hub->timm) (3.4)\n",
      "Requirement already satisfied: urllib3<3,>=1.21.1 in c:\\users\\srivi\\anaconda3\\lib\\site-packages (from requests->huggingface_hub->timm) (1.26.16)\n",
      "Requirement already satisfied: certifi>=2017.4.17 in c:\\users\\srivi\\anaconda3\\lib\\site-packages (from requests->huggingface_hub->timm) (2024.7.4)\n",
      "Requirement already satisfied: mpmath>=0.19 in c:\\users\\srivi\\anaconda3\\lib\\site-packages (from sympy->torch->timm) (1.3.0)\n",
      "Downloading timm-1.0.15-py3-none-any.whl (2.4 MB)\n",
      "   ---------------------------------------- 0.0/2.4 MB ? eta -:--:--\n",
      "   ---------------------------------------- 0.0/2.4 MB ? eta -:--:--\n",
      "   - -------------------------------------- 0.1/2.4 MB 1.3 MB/s eta 0:00:02\n",
      "   - -------------------------------------- 0.1/2.4 MB 1.1 MB/s eta 0:00:03\n",
      "   --- ------------------------------------ 0.2/2.4 MB 1.5 MB/s eta 0:00:02\n",
      "   ---- ----------------------------------- 0.3/2.4 MB 1.3 MB/s eta 0:00:02\n",
      "   ----- ---------------------------------- 0.3/2.4 MB 1.4 MB/s eta 0:00:02\n",
      "   ----- ---------------------------------- 0.3/2.4 MB 1.0 MB/s eta 0:00:02\n",
      "   ------- -------------------------------- 0.4/2.4 MB 1.3 MB/s eta 0:00:02\n",
      "   -------- ------------------------------- 0.5/2.4 MB 1.2 MB/s eta 0:00:02\n",
      "   --------- ------------------------------ 0.6/2.4 MB 1.3 MB/s eta 0:00:02\n",
      "   --------- ------------------------------ 0.6/2.4 MB 1.3 MB/s eta 0:00:02\n",
      "   --------- ------------------------------ 0.6/2.4 MB 1.3 MB/s eta 0:00:02\n",
      "   --------- ------------------------------ 0.6/2.4 MB 1.3 MB/s eta 0:00:02\n",
      "   ---------- ----------------------------- 0.6/2.4 MB 999.4 kB/s eta 0:00:02\n",
      "   ----------- ---------------------------- 0.7/2.4 MB 1.0 MB/s eta 0:00:02\n",
      "   ------------- -------------------------- 0.8/2.4 MB 1.1 MB/s eta 0:00:02\n",
      "   ------------- -------------------------- 0.8/2.4 MB 1.1 MB/s eta 0:00:02\n",
      "   ------------- -------------------------- 0.8/2.4 MB 989.3 kB/s eta 0:00:02\n",
      "   --------------- ------------------------ 0.9/2.4 MB 1.1 MB/s eta 0:00:02\n",
      "   ---------------- ----------------------- 1.0/2.4 MB 1.1 MB/s eta 0:00:02\n",
      "   ----------------- ---------------------- 1.0/2.4 MB 1.1 MB/s eta 0:00:02\n",
      "   ------------------ --------------------- 1.1/2.4 MB 1.1 MB/s eta 0:00:02\n",
      "   -------------------- ------------------- 1.2/2.4 MB 1.1 MB/s eta 0:00:01\n",
      "   ---------------------- ----------------- 1.4/2.4 MB 1.2 MB/s eta 0:00:01\n",
      "   ------------------------ --------------- 1.4/2.4 MB 1.2 MB/s eta 0:00:01\n",
      "   --------------------------- ------------ 1.6/2.4 MB 1.3 MB/s eta 0:00:01\n",
      "   --------------------------- ------------ 1.6/2.4 MB 1.3 MB/s eta 0:00:01\n",
      "   ---------------------------- ----------- 1.7/2.4 MB 1.3 MB/s eta 0:00:01\n",
      "   ----------------------------- ---------- 1.8/2.4 MB 1.3 MB/s eta 0:00:01\n",
      "   -------------------------------- ------- 1.9/2.4 MB 1.3 MB/s eta 0:00:01\n",
      "   --------------------------------- ------ 2.0/2.4 MB 1.3 MB/s eta 0:00:01\n",
      "   ----------------------------------- ---- 2.1/2.4 MB 1.4 MB/s eta 0:00:01\n",
      "   ------------------------------------ --- 2.2/2.4 MB 1.4 MB/s eta 0:00:01\n",
      "   ---------------------------------------  2.4/2.4 MB 1.4 MB/s eta 0:00:01\n",
      "   ---------------------------------------- 2.4/2.4 MB 1.4 MB/s eta 0:00:00\n",
      "Installing collected packages: timm\n",
      "Successfully installed timm-1.0.15\n"
     ]
    }
   ],
   "source": [
    "!pip install timm scikit-learn"
   ]
  },
  {
   "cell_type": "code",
   "execution_count": 2,
   "id": "fe7e665a",
   "metadata": {},
   "outputs": [],
   "source": [
    "import os\n",
    "import torch\n",
    "import numpy as np\n",
    "from torchvision import transforms, datasets\n",
    "from torch.utils.data import DataLoader, Subset\n",
    "from sklearn.model_selection import StratifiedKFold\n",
    "from sklearn.metrics import classification_report\n",
    "import timm\n",
    "import torch.nn as nn\n",
    "from tqdm import tqdm"
   ]
  },
  {
   "cell_type": "code",
   "execution_count": 3,
   "id": "cd23c96d",
   "metadata": {},
   "outputs": [],
   "source": [
    "transform = transforms.Compose([\n",
    "    transforms.Resize((224, 224)),\n",
    "    transforms.Grayscale(num_output_channels=3),  # convert 1-channel to 3-channel\n",
    "    transforms.RandomHorizontalFlip(),\n",
    "    transforms.RandomRotation(15),\n",
    "    transforms.ToTensor(),\n",
    "    transforms.Normalize(mean=[0.485, 0.456, 0.406],\n",
    "                         std=[0.229, 0.224, 0.225])\n",
    "])"
   ]
  },
  {
   "cell_type": "code",
   "execution_count": 8,
   "id": "48b543bf",
   "metadata": {},
   "outputs": [],
   "source": [
    "import zipfile\n",
    "import os\n",
    "\n",
    "os.makedirs(\"data\", exist_ok=True)\n",
    "\n",
    "with zipfile.ZipFile(\"HATE MEL SPECTROGRAMS.zip\", \"r\") as zip_ref:\n",
    "    zip_ref.extractall(\"data\")\n",
    "\n",
    "with zipfile.ZipFile(\"NON HATE MEL SPECTROGRAMS.zip\", \"r\") as zip_ref:\n",
    "    zip_ref.extractall(\"data\")"
   ]
  },
  {
   "cell_type": "code",
   "execution_count": 9,
   "id": "e140d218",
   "metadata": {},
   "outputs": [
    {
     "name": "stdout",
     "output_type": "stream",
     "text": [
      "HATE contents: ['A_1.wav_mel_spectrogram.png', 'A_10.wav_mel_spectrogram.png', 'A_100.wav_mel_spectrogram.png', 'A_101.wav_mel_spectrogram.png', 'A_102.wav_mel_spectrogram.png']\n",
      "NON-HATE contents: ['SAMPLE 1.png', 'SAMPLE 10.png', 'SAMPLE 100.png', 'SAMPLE 101.png', 'SAMPLE 102.png']\n"
     ]
    }
   ],
   "source": [
    "import os\n",
    "\n",
    "print(\"HATE contents:\", os.listdir(\"data/HATE MEL SPECTROGRAMS\")[:5])\n",
    "print(\"NON-HATE contents:\", os.listdir(\"data/NON HATE MEL SPECTROGRAMS\")[:5])\n"
   ]
  },
  {
   "cell_type": "code",
   "execution_count": 10,
   "id": "f30f2958",
   "metadata": {},
   "outputs": [],
   "source": [
    "dataset = CustomMelSpectrogramDataset(\n",
    "    hate_dir='data/HATE MEL SPECTROGRAMS',\n",
    "    non_hate_dir='data/NON HATE MEL SPECTROGRAMS',\n",
    "    transform=transform\n",
    ")"
   ]
  },
  {
   "cell_type": "code",
   "execution_count": 11,
   "id": "f3bfc61c",
   "metadata": {},
   "outputs": [],
   "source": [
    "from torch.utils.data import Dataset\n",
    "from PIL import Image\n",
    "\n",
    "class CustomMelSpectrogramDataset(Dataset):\n",
    "    def __init__(self, hate_dir, non_hate_dir, transform=None):\n",
    "        self.transform = transform\n",
    "        self.data = []\n",
    "\n",
    "        # Label 1 for HATE\n",
    "        for img in os.listdir(hate_dir):\n",
    "            self.data.append((os.path.join(hate_dir, img), 1))\n",
    "\n",
    "        # Label 0 for NON-HATE\n",
    "        for img in os.listdir(non_hate_dir):\n",
    "            self.data.append((os.path.join(non_hate_dir, img), 0))\n",
    "\n",
    "    def __len__(self):\n",
    "        return len(self.data)\n",
    "\n",
    "    def __getitem__(self, idx):\n",
    "        img_path, label = self.data[idx]\n",
    "        image = Image.open(img_path).convert(\"RGB\")\n",
    "        if self.transform:\n",
    "            image = self.transform(image)\n",
    "        return image, label\n"
   ]
  },
  {
   "cell_type": "code",
   "execution_count": 12,
   "id": "4909c386",
   "metadata": {},
   "outputs": [
    {
     "name": "stdout",
     "output_type": "stream",
     "text": [
      "Using cpu\n",
      "\n",
      "=== Fold 1 ===\n"
     ]
    },
    {
     "data": {
      "application/vnd.jupyter.widget-view+json": {
       "model_id": "43a9f0891de142449059496f8a8e2a88",
       "version_major": 2,
       "version_minor": 0
      },
      "text/plain": [
       "Downloading model.safetensors:   0%|          | 0.00/346M [00:00<?, ?B/s]"
      ]
     },
     "metadata": {},
     "output_type": "display_data"
    },
    {
     "name": "stderr",
     "output_type": "stream",
     "text": [
      "C:\\Users\\srivi\\anaconda3\\Lib\\site-packages\\huggingface_hub\\file_download.py:133: UserWarning: `huggingface_hub` cache-system uses symlinks by default to efficiently store duplicated files but your machine does not support them in C:\\Users\\srivi\\.cache\\huggingface\\hub. Caching files will still work but in a degraded version that might require more space on your disk. This warning can be disabled by setting the `HF_HUB_DISABLE_SYMLINKS_WARNING` environment variable. For more details, see https://huggingface.co/docs/huggingface_hub/how-to-cache#limitations.\n",
      "To support symlinks on Windows, you either need to activate Developer Mode or to run Python as an administrator. In order to see activate developer mode, see this article: https://docs.microsoft.com/en-us/windows/apps/get-started/enable-your-device-for-development\n",
      "  warnings.warn(message)\n",
      "Training: 100%|████████████████████████████████████████████████████████████████████████| 12/12 [03:07<00:00, 15.62s/it]\n",
      "Validating: 100%|████████████████████████████████████████████████████████████████████████| 3/3 [00:15<00:00,  5.33s/it]\n"
     ]
    },
    {
     "name": "stdout",
     "output_type": "stream",
     "text": [
      "Fold 1 Accuracy: 97.78%\n",
      "\n",
      "=== Fold 2 ===\n"
     ]
    },
    {
     "name": "stderr",
     "output_type": "stream",
     "text": [
      "Training: 100%|████████████████████████████████████████████████████████████████████████| 12/12 [03:03<00:00, 15.30s/it]\n",
      "Validating: 100%|████████████████████████████████████████████████████████████████████████| 3/3 [00:16<00:00,  5.44s/it]\n"
     ]
    },
    {
     "name": "stdout",
     "output_type": "stream",
     "text": [
      "Fold 2 Accuracy: 100.00%\n",
      "\n",
      "=== Fold 3 ===\n"
     ]
    },
    {
     "name": "stderr",
     "output_type": "stream",
     "text": [
      "Training: 100%|████████████████████████████████████████████████████████████████████████| 12/12 [03:03<00:00, 15.29s/it]\n",
      "Validating: 100%|████████████████████████████████████████████████████████████████████████| 3/3 [00:14<00:00,  4.84s/it]\n"
     ]
    },
    {
     "name": "stdout",
     "output_type": "stream",
     "text": [
      "Fold 3 Accuracy: 97.78%\n",
      "\n",
      "=== Fold 4 ===\n"
     ]
    },
    {
     "name": "stderr",
     "output_type": "stream",
     "text": [
      "Training: 100%|████████████████████████████████████████████████████████████████████████| 12/12 [03:08<00:00, 15.68s/it]\n",
      "Validating: 100%|████████████████████████████████████████████████████████████████████████| 3/3 [00:15<00:00,  5.19s/it]\n"
     ]
    },
    {
     "name": "stdout",
     "output_type": "stream",
     "text": [
      "Fold 4 Accuracy: 100.00%\n",
      "\n",
      "=== Fold 5 ===\n"
     ]
    },
    {
     "name": "stderr",
     "output_type": "stream",
     "text": [
      "Training: 100%|████████████████████████████████████████████████████████████████████████| 12/12 [03:27<00:00, 17.28s/it]\n",
      "Validating: 100%|████████████████████████████████████████████████████████████████████████| 3/3 [00:20<00:00,  6.79s/it]"
     ]
    },
    {
     "name": "stdout",
     "output_type": "stream",
     "text": [
      "Fold 5 Accuracy: 95.56%\n",
      "\n",
      "=== Cross-validation Results ===\n",
      "Average Accuracy: 98.22%\n"
     ]
    },
    {
     "name": "stderr",
     "output_type": "stream",
     "text": [
      "\n"
     ]
    }
   ],
   "source": [
    "from torch.utils.data import DataLoader, Subset\n",
    "from sklearn.model_selection import StratifiedKFold\n",
    "import torch\n",
    "import torch.nn as nn\n",
    "import torch.optim as optim\n",
    "from tqdm import tqdm\n",
    "import numpy as np\n",
    "from timm import create_model\n",
    "\n",
    "device = torch.device(\"cuda\" if torch.cuda.is_available() else \"cpu\")\n",
    "print(\"Using\", device)\n",
    "\n",
    "# Extract labels for StratifiedKFold\n",
    "labels = [label for _, label in dataset]\n",
    "\n",
    "kfold = StratifiedKFold(n_splits=5, shuffle=True, random_state=42)\n",
    "\n",
    "fold_accuracies = []\n",
    "\n",
    "for fold, (train_idx, val_idx) in enumerate(kfold.split(np.zeros(len(dataset)), labels)):\n",
    "    print(f\"\\n=== Fold {fold+1} ===\")\n",
    "\n",
    "    train_loader = DataLoader(Subset(dataset, train_idx), batch_size=16, shuffle=True)\n",
    "    val_loader = DataLoader(Subset(dataset, val_idx), batch_size=16, shuffle=False)\n",
    "\n",
    "    model = create_model('vit_base_patch16_224', pretrained=True, num_classes=2)\n",
    "    model.to(device)\n",
    "\n",
    "    criterion = nn.CrossEntropyLoss()\n",
    "    optimizer = optim.Adam(model.parameters(), lr=3e-5)\n",
    "\n",
    "    # Train loop (1 epoch to keep it quick — adjust as needed)\n",
    "    model.train()\n",
    "    for images, labels in tqdm(train_loader, desc=\"Training\"):\n",
    "        images, labels = images.to(device), labels.to(device)\n",
    "        optimizer.zero_grad()\n",
    "        outputs = model(images)\n",
    "        loss = criterion(outputs, labels)\n",
    "        loss.backward()\n",
    "        optimizer.step()\n",
    "\n",
    "    # Validation\n",
    "    model.eval()\n",
    "    correct = 0\n",
    "    total = 0\n",
    "    with torch.no_grad():\n",
    "        for images, labels in tqdm(val_loader, desc=\"Validating\"):\n",
    "            images, labels = images.to(device), labels.to(device)\n",
    "            outputs = model(images)\n",
    "            _, predicted = torch.max(outputs.data, 1)\n",
    "            total += labels.size(0)\n",
    "            correct += (predicted == labels).sum().item()\n",
    "\n",
    "    acc = 100 * correct / total\n",
    "    fold_accuracies.append(acc)\n",
    "    print(f\"Fold {fold+1} Accuracy: {acc:.2f}%\")\n",
    "\n",
    "print(\"\\n=== Cross-validation Results ===\")\n",
    "print(f\"Average Accuracy: {np.mean(fold_accuracies):.2f}%\")\n"
   ]
  },
  {
   "cell_type": "code",
   "execution_count": 13,
   "id": "53f4082f",
   "metadata": {},
   "outputs": [
    {
     "data": {
      "image/png": "[encoded data removed]",
      "text/plain": [
       "<Figure size 640x480 with 2 Axes>"
      ]
     },
     "metadata": {},
     "output_type": "display_data"
    },
    {
     "name": "stdout",
     "output_type": "stream",
     "text": [
      "              precision    recall  f1-score   support\n",
      "\n",
      "    Non-Hate       0.95      1.00      0.98        21\n",
      "        Hate       1.00      0.96      0.98        24\n",
      "\n",
      "    accuracy                           0.98        45\n",
      "   macro avg       0.98      0.98      0.98        45\n",
      "weighted avg       0.98      0.98      0.98        45\n",
      "\n"
     ]
    }
   ],
   "source": [
    "from sklearn.metrics import confusion_matrix, classification_report\n",
    "import matplotlib.pyplot as plt\n",
    "import seaborn as sns\n",
    "\n",
    "# After model.eval() in the final fold\n",
    "y_true = []\n",
    "y_pred = []\n",
    "\n",
    "model.eval()\n",
    "with torch.no_grad():\n",
    "    for images, labels in val_loader:\n",
    "        images, labels = images.to(device), labels.to(device)\n",
    "        outputs = model(images)\n",
    "        _, predicted = torch.max(outputs.data, 1)\n",
    "        y_true.extend(labels.cpu().numpy())\n",
    "        y_pred.extend(predicted.cpu().numpy())\n",
    "\n",
    "# Confusion Matrix\n",
    "cm = confusion_matrix(y_true, y_pred)\n",
    "sns.heatmap(cm, annot=True, fmt='d', cmap='Blues', xticklabels=[\"Non-Hate\", \"Hate\"], yticklabels=[\"Non-Hate\", \"Hate\"])\n",
    "plt.xlabel(\"Predicted\")\n",
    "plt.ylabel(\"Actual\")\n",
    "plt.title(\"Confusion Matrix\")\n",
    "plt.show()\n",
    "\n",
    "# Classification Report\n",
    "print(classification_report(y_true, y_pred, target_names=[\"Non-Hate\", \"Hate\"]))\n"
   ]
  },
  {
   "cell_type": "code",
   "execution_count": 16,
   "id": "6839b8b9",
   "metadata": {},
   "outputs": [
    {
     "data": {
      "image/png": "[encoded data removed]",
      "text/plain": [
       "<Figure size 640x480 with 1 Axes>"
      ]
     },
     "metadata": {},
     "output_type": "display_data"
    }
   ],
   "source": [
    "from sklearn.metrics import roc_curve, roc_auc_score\n",
    "\n",
    "y_probs = []  # model output probabilities for class 1 (HATE)\n",
    "\n",
    "model.eval()\n",
    "with torch.no_grad():\n",
    "    for images, labels in val_loader:\n",
    "        images = images.to(device)\n",
    "        outputs = model(images)\n",
    "        probs = torch.softmax(outputs, dim=1)\n",
    "        y_probs.extend(probs[:, 1].cpu().numpy())  # class 1 probs\n",
    "\n",
    "# ROC Curve\n",
    "fpr, tpr, _ = roc_curve(y_true, y_probs)\n",
    "auc = roc_auc_score(y_true, y_probs)\n",
    "\n",
    "plt.plot(fpr, tpr, label=f\"AUC = {auc:.2f}\")\n",
    "plt.plot([0, 1], [0, 1], linestyle='--', color='gray')\n",
    "plt.xlabel(\"False Positive Rate\")\n",
    "plt.ylabel(\"True Positive Rate\")\n",
    "plt.title(\"ROC Curve\")\n",
    "plt.legend()\n",
    "plt.grid(True)\n",
    "plt.show()"
   ]
  },
  {
   "cell_type": "code",
   "execution_count": 17,
   "id": "46676732",
   "metadata": {},
   "outputs": [
    {
     "data": {
      "image/png": "[encoded data removed]",
      "text/plain": [
       "<Figure size 640x480 with 1 Axes>"
      ]
     },
     "metadata": {},
     "output_type": "display_data"
    }
   ],
   "source": [
    "from sklearn.metrics import precision_recall_curve, average_precision_score\n",
    "\n",
    "precision, recall, _ = precision_recall_curve(y_true, y_probs)\n",
    "ap = average_precision_score(y_true, y_probs)\n",
    "\n",
    "plt.plot(recall, precision, label=f\"AP = {ap:.2f}\")\n",
    "plt.xlabel(\"Recall\")\n",
    "plt.ylabel(\"Precision\")\n",
    "plt.title(\"Precision-Recall Curve\")\n",
    "plt.legend()\n",
    "plt.grid(True)\n",
    "plt.show()\n"
   ]
  },
  {
   "cell_type": "code",
   "execution_count": null,
   "id": "36979a7e",
   "metadata": {},
   "outputs": [],
   "source": []
  }
 ],
 "metadata": {
  "kernelspec": {
   "display_name": "Python 3 (ipykernel)",
   "language": "python",
   "name": "python3"
  },
  "language_info": {
   "codemirror_mode": {
    "name": "ipython",
    "version": 3
   },
   "file_extension": ".py",
   "mimetype": "text/x-python",
   "name": "python",
   "nbconvert_exporter": "python",
   "pygments_lexer": "ipython3",
   "version": "3.11.5"
  }
 },
 "nbformat": 4,
 "nbformat_minor": 5
}
